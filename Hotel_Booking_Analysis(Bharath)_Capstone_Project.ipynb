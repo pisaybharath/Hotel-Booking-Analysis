{
  "nbformat": 4,
  "nbformat_minor": 0,
  "metadata": {
    "kernelspec": {
      "display_name": "Python 3",
      "language": "python",
      "name": "python3"
    },
    "language_info": {
      "codemirror_mode": {
        "name": "ipython",
        "version": 3
      },
      "file_extension": ".py",
      "mimetype": "text/x-python",
      "name": "python",
      "nbconvert_exporter": "python",
      "pygments_lexer": "ipython3",
      "version": "3.6.6"
    },
    "colab": {
      "name": "Hotel Booking Analysis(Bharath) - Capstone Project.ipynb",
      "provenance": [],
      "collapsed_sections": [],
      "include_colab_link": true
    }
  },
  "cells": [
    {
      "cell_type": "markdown",
      "metadata": {
        "id": "view-in-github",
        "colab_type": "text"
      },
      "source": [
        "<a href=\"https://colab.research.google.com/github/pisaybharath/Hotel-Booking-Analysis/blob/main/Hotel_Booking_Analysis(Bharath)_Capstone_Project.ipynb\" target=\"_parent\"><img src=\"https://colab.research.google.com/assets/colab-badge.svg\" alt=\"Open In Colab\"/></a>"
      ]
    },
    {
      "cell_type": "markdown",
      "metadata": {
        "id": "Y06xIdG26kRF"
      },
      "source": [
        "\n",
        "## <b> Have you ever wondered when the best time of year to book a hotel room is? Or the optimal length of stay in order to get the best daily rate? What if you wanted to predict whether or not a hotel was likely to receive a disproportionately high number of special requests? This hotel booking dataset can help you explore those questions!\n",
        "\n",
        "## <b>This data set contains booking information for a city hotel and a resort hotel, and includes information such as when the booking was made, length of stay, the number of adults, children, and/or babies, and the number of available parking spaces, among other things. All personally identifying information has been removed from the data. </b>\n",
        "\n",
        "## <b> Explore and analyze the data to discover important factors that govern the bookings. </b>"
      ]
    },
    {
      "cell_type": "code",
      "metadata": {
        "id": "dByMsuzT8Tnw"
      },
      "source": [
        "#importing Librabries\n",
        "\n",
        "import numpy as np \n",
        "import pandas as pd \n",
        "import seaborn as sns\n",
        "import matplotlib.pyplot as plt\n",
        "%matplotlib inline"
      ],
      "execution_count": 1,
      "outputs": []
    },
    {
      "cell_type": "code",
      "metadata": {
        "id": "3ZRVcMBVFQeT",
        "colab": {
          "base_uri": "https://localhost:8080/",
          "height": 532
        },
        "outputId": "35340bae-2da7-459c-aad4-6d529b398ecb"
      },
      "source": [
        "#importing Dataset from github url\n",
        "\n",
        "url = \"https://github.com/pisaybharath/Hotel-Booking-Analysis/blob/main/Hotel%20Bookings.csv\"\n",
        "df =pd.read_csv(url)"
      ],
      "execution_count": 3,
      "outputs": [
        {
          "output_type": "error",
          "ename": "ParserError",
          "evalue": "ignored",
          "traceback": [
            "\u001b[0;31m---------------------------------------------------------------------------\u001b[0m",
            "\u001b[0;31mParserError\u001b[0m                               Traceback (most recent call last)",
            "\u001b[0;32m<ipython-input-3-13ed6090fccd>\u001b[0m in \u001b[0;36m<module>\u001b[0;34m()\u001b[0m\n\u001b[1;32m      2\u001b[0m \u001b[0;34m\u001b[0m\u001b[0m\n\u001b[1;32m      3\u001b[0m \u001b[0murl\u001b[0m \u001b[0;34m=\u001b[0m \u001b[0;34m\"https://github.com/pisaybharath/Hotel-Booking-Analysis/blob/main/Hotel%20Bookings.csv\"\u001b[0m\u001b[0;34m\u001b[0m\u001b[0;34m\u001b[0m\u001b[0m\n\u001b[0;32m----> 4\u001b[0;31m \u001b[0mdf\u001b[0m \u001b[0;34m=\u001b[0m\u001b[0mpd\u001b[0m\u001b[0;34m.\u001b[0m\u001b[0mread_csv\u001b[0m\u001b[0;34m(\u001b[0m\u001b[0murl\u001b[0m\u001b[0;34m)\u001b[0m\u001b[0;34m\u001b[0m\u001b[0;34m\u001b[0m\u001b[0m\n\u001b[0m",
            "\u001b[0;32m/usr/local/lib/python3.7/dist-packages/pandas/io/parsers.py\u001b[0m in \u001b[0;36mread_csv\u001b[0;34m(filepath_or_buffer, sep, delimiter, header, names, index_col, usecols, squeeze, prefix, mangle_dupe_cols, dtype, engine, converters, true_values, false_values, skipinitialspace, skiprows, skipfooter, nrows, na_values, keep_default_na, na_filter, verbose, skip_blank_lines, parse_dates, infer_datetime_format, keep_date_col, date_parser, dayfirst, cache_dates, iterator, chunksize, compression, thousands, decimal, lineterminator, quotechar, quoting, doublequote, escapechar, comment, encoding, dialect, error_bad_lines, warn_bad_lines, delim_whitespace, low_memory, memory_map, float_precision)\u001b[0m\n\u001b[1;32m    686\u001b[0m     )\n\u001b[1;32m    687\u001b[0m \u001b[0;34m\u001b[0m\u001b[0m\n\u001b[0;32m--> 688\u001b[0;31m     \u001b[0;32mreturn\u001b[0m \u001b[0m_read\u001b[0m\u001b[0;34m(\u001b[0m\u001b[0mfilepath_or_buffer\u001b[0m\u001b[0;34m,\u001b[0m \u001b[0mkwds\u001b[0m\u001b[0;34m)\u001b[0m\u001b[0;34m\u001b[0m\u001b[0;34m\u001b[0m\u001b[0m\n\u001b[0m\u001b[1;32m    689\u001b[0m \u001b[0;34m\u001b[0m\u001b[0m\n\u001b[1;32m    690\u001b[0m \u001b[0;34m\u001b[0m\u001b[0m\n",
            "\u001b[0;32m/usr/local/lib/python3.7/dist-packages/pandas/io/parsers.py\u001b[0m in \u001b[0;36m_read\u001b[0;34m(filepath_or_buffer, kwds)\u001b[0m\n\u001b[1;32m    458\u001b[0m \u001b[0;34m\u001b[0m\u001b[0m\n\u001b[1;32m    459\u001b[0m     \u001b[0;32mtry\u001b[0m\u001b[0;34m:\u001b[0m\u001b[0;34m\u001b[0m\u001b[0;34m\u001b[0m\u001b[0m\n\u001b[0;32m--> 460\u001b[0;31m         \u001b[0mdata\u001b[0m \u001b[0;34m=\u001b[0m \u001b[0mparser\u001b[0m\u001b[0;34m.\u001b[0m\u001b[0mread\u001b[0m\u001b[0;34m(\u001b[0m\u001b[0mnrows\u001b[0m\u001b[0;34m)\u001b[0m\u001b[0;34m\u001b[0m\u001b[0;34m\u001b[0m\u001b[0m\n\u001b[0m\u001b[1;32m    461\u001b[0m     \u001b[0;32mfinally\u001b[0m\u001b[0;34m:\u001b[0m\u001b[0;34m\u001b[0m\u001b[0;34m\u001b[0m\u001b[0m\n\u001b[1;32m    462\u001b[0m         \u001b[0mparser\u001b[0m\u001b[0;34m.\u001b[0m\u001b[0mclose\u001b[0m\u001b[0;34m(\u001b[0m\u001b[0;34m)\u001b[0m\u001b[0;34m\u001b[0m\u001b[0;34m\u001b[0m\u001b[0m\n",
            "\u001b[0;32m/usr/local/lib/python3.7/dist-packages/pandas/io/parsers.py\u001b[0m in \u001b[0;36mread\u001b[0;34m(self, nrows)\u001b[0m\n\u001b[1;32m   1196\u001b[0m     \u001b[0;32mdef\u001b[0m \u001b[0mread\u001b[0m\u001b[0;34m(\u001b[0m\u001b[0mself\u001b[0m\u001b[0;34m,\u001b[0m \u001b[0mnrows\u001b[0m\u001b[0;34m=\u001b[0m\u001b[0;32mNone\u001b[0m\u001b[0;34m)\u001b[0m\u001b[0;34m:\u001b[0m\u001b[0;34m\u001b[0m\u001b[0;34m\u001b[0m\u001b[0m\n\u001b[1;32m   1197\u001b[0m         \u001b[0mnrows\u001b[0m \u001b[0;34m=\u001b[0m \u001b[0m_validate_integer\u001b[0m\u001b[0;34m(\u001b[0m\u001b[0;34m\"nrows\"\u001b[0m\u001b[0;34m,\u001b[0m \u001b[0mnrows\u001b[0m\u001b[0;34m)\u001b[0m\u001b[0;34m\u001b[0m\u001b[0;34m\u001b[0m\u001b[0m\n\u001b[0;32m-> 1198\u001b[0;31m         \u001b[0mret\u001b[0m \u001b[0;34m=\u001b[0m \u001b[0mself\u001b[0m\u001b[0;34m.\u001b[0m\u001b[0m_engine\u001b[0m\u001b[0;34m.\u001b[0m\u001b[0mread\u001b[0m\u001b[0;34m(\u001b[0m\u001b[0mnrows\u001b[0m\u001b[0;34m)\u001b[0m\u001b[0;34m\u001b[0m\u001b[0;34m\u001b[0m\u001b[0m\n\u001b[0m\u001b[1;32m   1199\u001b[0m \u001b[0;34m\u001b[0m\u001b[0m\n\u001b[1;32m   1200\u001b[0m         \u001b[0;31m# May alter columns / col_dict\u001b[0m\u001b[0;34m\u001b[0m\u001b[0;34m\u001b[0m\u001b[0;34m\u001b[0m\u001b[0m\n",
            "\u001b[0;32m/usr/local/lib/python3.7/dist-packages/pandas/io/parsers.py\u001b[0m in \u001b[0;36mread\u001b[0;34m(self, nrows)\u001b[0m\n\u001b[1;32m   2155\u001b[0m     \u001b[0;32mdef\u001b[0m \u001b[0mread\u001b[0m\u001b[0;34m(\u001b[0m\u001b[0mself\u001b[0m\u001b[0;34m,\u001b[0m \u001b[0mnrows\u001b[0m\u001b[0;34m=\u001b[0m\u001b[0;32mNone\u001b[0m\u001b[0;34m)\u001b[0m\u001b[0;34m:\u001b[0m\u001b[0;34m\u001b[0m\u001b[0;34m\u001b[0m\u001b[0m\n\u001b[1;32m   2156\u001b[0m         \u001b[0;32mtry\u001b[0m\u001b[0;34m:\u001b[0m\u001b[0;34m\u001b[0m\u001b[0;34m\u001b[0m\u001b[0m\n\u001b[0;32m-> 2157\u001b[0;31m             \u001b[0mdata\u001b[0m \u001b[0;34m=\u001b[0m \u001b[0mself\u001b[0m\u001b[0;34m.\u001b[0m\u001b[0m_reader\u001b[0m\u001b[0;34m.\u001b[0m\u001b[0mread\u001b[0m\u001b[0;34m(\u001b[0m\u001b[0mnrows\u001b[0m\u001b[0;34m)\u001b[0m\u001b[0;34m\u001b[0m\u001b[0;34m\u001b[0m\u001b[0m\n\u001b[0m\u001b[1;32m   2158\u001b[0m         \u001b[0;32mexcept\u001b[0m \u001b[0mStopIteration\u001b[0m\u001b[0;34m:\u001b[0m\u001b[0;34m\u001b[0m\u001b[0;34m\u001b[0m\u001b[0m\n\u001b[1;32m   2159\u001b[0m             \u001b[0;32mif\u001b[0m \u001b[0mself\u001b[0m\u001b[0;34m.\u001b[0m\u001b[0m_first_chunk\u001b[0m\u001b[0;34m:\u001b[0m\u001b[0;34m\u001b[0m\u001b[0;34m\u001b[0m\u001b[0m\n",
            "\u001b[0;32mpandas/_libs/parsers.pyx\u001b[0m in \u001b[0;36mpandas._libs.parsers.TextReader.read\u001b[0;34m()\u001b[0m\n",
            "\u001b[0;32mpandas/_libs/parsers.pyx\u001b[0m in \u001b[0;36mpandas._libs.parsers.TextReader._read_low_memory\u001b[0;34m()\u001b[0m\n",
            "\u001b[0;32mpandas/_libs/parsers.pyx\u001b[0m in \u001b[0;36mpandas._libs.parsers.TextReader._read_rows\u001b[0;34m()\u001b[0m\n",
            "\u001b[0;32mpandas/_libs/parsers.pyx\u001b[0m in \u001b[0;36mpandas._libs.parsers.TextReader._tokenize_rows\u001b[0;34m()\u001b[0m\n",
            "\u001b[0;32mpandas/_libs/parsers.pyx\u001b[0m in \u001b[0;36mpandas._libs.parsers.raise_parser_error\u001b[0;34m()\u001b[0m\n",
            "\u001b[0;31mParserError\u001b[0m: Error tokenizing data. C error: Expected 1 fields in line 94, saw 2\n"
          ]
        }
      ]
    },
    {
      "cell_type": "code",
      "metadata": {
        "id": "jly5u7cLFktD"
      },
      "source": [
        "#Reading head of Dataframe\n",
        "\n",
        "df.head()"
      ],
      "execution_count": null,
      "outputs": []
    },
    {
      "cell_type": "code",
      "metadata": {
        "id": "Hf1qg2URFq4H"
      },
      "source": [
        "#checking Shape of Dataframe\n",
        "\n",
        "df.shape"
      ],
      "execution_count": null,
      "outputs": []
    },
    {
      "cell_type": "code",
      "metadata": {
        "id": "3oX8d6DZJ2UR"
      },
      "source": [
        "#checking columns of dataframe\n",
        "df.columns"
      ],
      "execution_count": null,
      "outputs": []
    },
    {
      "cell_type": "code",
      "metadata": {
        "id": "J3eYCgV4KLPZ"
      },
      "source": [
        "#checking informatiom of dataframe\n",
        "\n",
        "df.info()"
      ],
      "execution_count": null,
      "outputs": []
    },
    {
      "cell_type": "code",
      "metadata": {
        "id": "8belQRQBKxRe"
      },
      "source": [
        "#checking for null values\n",
        "df.isna().sum().sort_values(ascending=False)\n",
        "\n"
      ],
      "execution_count": null,
      "outputs": []
    },
    {
      "cell_type": "markdown",
      "metadata": {
        "id": "eD7kgy7pnbod"
      },
      "source": [
        " **STEP 1. Data Cleaning**\n",
        "\n"
      ]
    },
    {
      "cell_type": "code",
      "metadata": {
        "id": "RwhB1UBCLP-q"
      },
      "source": [
        "#Replacing NUll value with zero for convinience\n",
        "\n",
        "df.fillna(0, inplace=True)"
      ],
      "execution_count": null,
      "outputs": []
    },
    {
      "cell_type": "code",
      "metadata": {
        "id": "VpUaVOD1M2lq"
      },
      "source": [
        "#again checking for null value\n",
        "df.isna().sum()"
      ],
      "execution_count": null,
      "outputs": []
    },
    {
      "cell_type": "markdown",
      "metadata": {
        "id": "O6Ndu72WNQOn"
      },
      "source": [
        "**Now we can see there is no null value in hotel Dataframe**"
      ]
    },
    {
      "cell_type": "code",
      "metadata": {
        "id": "sJJjmR_KM_Rn"
      },
      "source": [
        "#checking value of children\n",
        "df['children'].unique()"
      ],
      "execution_count": null,
      "outputs": []
    },
    {
      "cell_type": "code",
      "metadata": {
        "id": "vgiGuadkXut5"
      },
      "source": [
        "#checking value of adults\n",
        "df['adults'].unique()"
      ],
      "execution_count": null,
      "outputs": []
    },
    {
      "cell_type": "code",
      "metadata": {
        "id": "Bu-p3H6bX3SX"
      },
      "source": [
        "#checking value of adults\n",
        "df['babies'].unique()"
      ],
      "execution_count": null,
      "outputs": []
    },
    {
      "cell_type": "markdown",
      "metadata": {
        "id": "pKLBhPmjYZyo"
      },
      "source": [
        "# **From the above data we can say that adults, childrens and babies can't be zero at a time**"
      ]
    },
    {
      "cell_type": "code",
      "metadata": {
        "id": "6kl_AKfpYGbZ"
      },
      "source": [
        "# so now we are going to filter data where value of adults, children and babies = 0\n",
        "\n",
        "checking_value_0_of_ad_ch_baby = (df['adults']==0) & (df['children']==0) & (df['babies']==0)\n",
        "\n",
        "# reading data frame where adult,children and babies are 0\n",
        "df[checking_value_0_of_ad_ch_baby]"
      ],
      "execution_count": null,
      "outputs": []
    },
    {
      "cell_type": "markdown",
      "metadata": {
        "id": "KX7aTjbNbD8v"
      },
      "source": [
        " **As we know  adult, children and babies can't be zero at a time that means these are wrong input so we have to remove this data** "
      ]
    },
    {
      "cell_type": "code",
      "metadata": {
        "id": "uWai0XOBanmR"
      },
      "source": [
        "#reading and storing data where adults,children and babies are having non 0 value \n",
        "\n",
        "hotel_df=df[~checking_value_0_of_ad_ch_baby]"
      ],
      "execution_count": null,
      "outputs": []
    },
    {
      "cell_type": "code",
      "metadata": {
        "id": "T8xapF62cnbq"
      },
      "source": [
        "# reading hotel_df dataframe\n",
        "hotel_df"
      ],
      "execution_count": null,
      "outputs": []
    },
    {
      "cell_type": "markdown",
      "metadata": {
        "id": "KJvNCBjvnsWE"
      },
      "source": [
        "**STEP 2 : Data Analysis**"
      ]
    },
    {
      "cell_type": "markdown",
      "metadata": {
        "id": "IINnFSMqnzwc"
      },
      "source": [
        "\n",
        " **what is the count of each type of Hotels ?**\n",
        "                             "
      ]
    },
    {
      "cell_type": "code",
      "metadata": {
        "id": "cEF8XTpAcohp"
      },
      "source": [
        "hotel_list = hotel_df['hotel'].value_counts()\n",
        "hotel_count = hotel_df['hotel'].value_counts().index"
      ],
      "execution_count": null,
      "outputs": []
    },
    {
      "cell_type": "code",
      "metadata": {
        "id": "HSuskBqP_Mbg"
      },
      "source": [
        "#setting size of graph  \n",
        "plt.figure(figsize = (5, 5))\n",
        "# creating the bar graph\n",
        "plt.bar(hotel_count, hotel_list, color =['skyblue','orange'],width = 0.4)\n",
        "plt.xlabel(\"Hotel Type\")\n",
        "plt.ylabel(\"count\")\n",
        "#showing graph\n",
        "plt.show()"
      ],
      "execution_count": null,
      "outputs": []
    },
    {
      "cell_type": "code",
      "metadata": {
        "id": "undGLKOf_PDw"
      },
      "source": [
        "\n"
      ],
      "execution_count": null,
      "outputs": []
    },
    {
      "cell_type": "markdown",
      "metadata": {
        "id": "yITs1qb-z6F3"
      },
      "source": [
        "\n",
        "*From above graph we can say that there are 2 types of Hotel* \n",
        "\n",
        "*1. city Hotel and  2. Resort Hotel having count 79000 and 40000 approx respectively*\n",
        "\n",
        "\n"
      ]
    },
    {
      "cell_type": "markdown",
      "metadata": {
        "id": "j2Xsk_EtzQVv"
      },
      "source": [
        "**where do guest come from ?**"
      ]
    },
    {
      "cell_type": "code",
      "metadata": {
        "id": "s0Mp31Q19erR"
      },
      "source": [
        "#taking Top 10 country to analyze the largest number quest comes from\n",
        "\n",
        "top_10_countries = hotel_df[hotel_df['is_canceled']==0]['country'].value_counts()[:10]\n",
        "top_10_countries"
      ],
      "execution_count": null,
      "outputs": []
    },
    {
      "cell_type": "code",
      "metadata": {
        "id": "73dDcbyA9r5F"
      },
      "source": [
        "#renaming the index\n",
        "\n",
        "top_10_countries = top_10_countries.reset_index().rename(columns = {'index':'country','country':'number_of_bookings'})\n",
        "\n",
        "#adding percentage column\n",
        "top_10_countries['percentage'] = (top_10_countries['number_of_bookings']/top_10_countries['number_of_bookings'].sum())*100\n"
      ],
      "execution_count": null,
      "outputs": []
    },
    {
      "cell_type": "code",
      "metadata": {
        "id": "ieRZq56p9vDu"
      },
      "source": [
        "top_10_countries"
      ],
      "execution_count": null,
      "outputs": []
    },
    {
      "cell_type": "code",
      "metadata": {
        "id": "S5FFdd5s9l9R"
      },
      "source": [
        "plt.figure(figsize=(10,10))\n",
        "sns.barplot(x=\"country\", y=\"percentage\", data=top_10_countries).set(title='Percentage of guest per country')\n",
        "plt.show()"
      ],
      "execution_count": null,
      "outputs": []
    },
    {
      "cell_type": "markdown",
      "metadata": {
        "id": "h2qyw-6CBqKu"
      },
      "source": [
        "\n",
        "**From the above graph we can conclude that most of guest come from  country PRT i.e Portugal**"
      ]
    },
    {
      "cell_type": "markdown",
      "metadata": {
        "id": "k84XjOmK2PLp"
      },
      "source": [
        "\n",
        "\n",
        "**How much does guest pay for a room per night ?**\n",
        "                                          "
      ]
    },
    {
      "cell_type": "code",
      "metadata": {
        "id": "Z4zMJUWO2Omk"
      },
      "source": [
        "hotel_df.head()"
      ],
      "execution_count": null,
      "outputs": []
    },
    {
      "cell_type": "code",
      "metadata": {
        "id": "bIGvgXOA35z5"
      },
      "source": [
        "#creating new df so we can do our anlaysis non canceled room only\n",
        "\n",
        "room_type = hotel_df[hotel_df['is_canceled']==0]"
      ],
      "execution_count": null,
      "outputs": []
    },
    {
      "cell_type": "code",
      "metadata": {
        "id": "nxfwN8om2Ojr"
      },
      "source": [
        "#ploting box plot fro analysis\n",
        "\n",
        "plt.figure(figsize=(12,8))\n",
        "sns.boxplot(x='reserved_room_type', y ='adr',data = room_type,hue='hotel')\n",
        "plt.title('price of room types per night per person')\n",
        "plt.xlabel('Room Type')\n",
        "plt.ylabel('price')\n",
        "plt.show()"
      ],
      "execution_count": null,
      "outputs": []
    },
    {
      "cell_type": "markdown",
      "metadata": {
        "id": "FkcAzeOI596R"
      },
      "source": [
        "\n",
        "**We can see in the above figure that with repect to \"A\" category room it has highest price apppx as outlier**\n",
        "\n",
        "**whereas with respect to  'G' category room of city hotel are much costlier than other**"
      ]
    },
    {
      "cell_type": "code",
      "metadata": {
        "id": "GJOcttUp2OUy"
      },
      "source": [
        ""
      ],
      "execution_count": null,
      "outputs": []
    },
    {
      "cell_type": "markdown",
      "metadata": {
        "id": "WZaJgbZFc68i"
      },
      "source": [
        "\n",
        "**Which are most busy month ?**\n",
        "              \n"
      ]
    },
    {
      "cell_type": "code",
      "metadata": {
        "id": "ZXqyflWfCKzj"
      },
      "source": [
        "plt.figure(figsize=(20,5))\n",
        "\n",
        "sns.countplot(data = hotel_df, x = 'arrival_date_month', hue = 'hotel', order = ['January', 'February', 'March', 'April', 'May', 'June', 'July',\n",
        "          'August', 'September', 'October', 'November', 'December']).set_title('Graph showing number of arrival per month',fontsize=20)"
      ],
      "execution_count": null,
      "outputs": []
    },
    {
      "cell_type": "markdown",
      "metadata": {
        "id": "1yM_OULs1rsK"
      },
      "source": [
        "\n",
        "\n",
        "**According to the above graph the most busy month is August**"
      ]
    },
    {
      "cell_type": "markdown",
      "metadata": {
        "id": "H3TwFXi3XfX4"
      },
      "source": [
        "\n",
        "Which hotel type has highest number of cancellation?"
      ]
    },
    {
      "cell_type": "code",
      "metadata": {
        "id": "iRRR1STfUXZy"
      },
      "source": [
        "canceled_room=hotel_df[hotel_df['is_canceled']==1]\n",
        "\n",
        "sns.countplot(data=canceled_room,x='is_canceled', hue='hotel', palette='bright').set_title('Number of canceled Bookings')\n",
        "plt.show()"
      ],
      "execution_count": null,
      "outputs": []
    },
    {
      "cell_type": "markdown",
      "metadata": {
        "id": "g_WbdhdtX7NZ"
      },
      "source": [
        "\n",
        "\n",
        "**From above vizual we can see that city hotel has more number of cancellation compared to Resort hotel**"
      ]
    },
    {
      "cell_type": "markdown",
      "metadata": {
        "id": "jEJqdjWUOFny"
      },
      "source": [
        "\n",
        "**Booking and cancelation per market segment?**"
      ]
    },
    {
      "cell_type": "code",
      "metadata": {
        "id": "q33vWSWuORz3"
      },
      "source": [
        "plt.figure(figsize=(18,10))\n",
        "plt.subplot(211)\n",
        "sns.countplot(data=hotel_df,x='deposit_type',hue='market_segment')\n",
        "plt.title('Deposit Type for Market Segment')\n",
        "\n",
        "plt.subplot(212)\n",
        "sns.countplot(data=hotel_df,x='is_canceled',hue='market_segment')\n",
        "plt.title('Cancellation for Market Segment')\n",
        "plt.show()"
      ],
      "execution_count": null,
      "outputs": []
    },
    {
      "cell_type": "markdown",
      "metadata": {
        "id": "HngH8Uoz7sIW"
      },
      "source": [
        "\n",
        "\n",
        "**we can see from above graph 1 that most the bookings are done through Online TA segment.**\n",
        "\n",
        "**and from above graph 2 that most cancelation is also done throuugh online TA segment only**.\n",
        "\n"
      ]
    },
    {
      "cell_type": "markdown",
      "metadata": {
        "id": "7n4NWvXVOf14"
      },
      "source": [
        "\n",
        "**Which meals were more preferreable?**"
      ]
    },
    {
      "cell_type": "code",
      "metadata": {
        "id": "H0cNcG8NOknP"
      },
      "source": [
        "# Enlarging the pie chart\n",
        "plt.rcParams['figure.figsize'] = 10,10\n",
        "\n",
        "#Making list of  not cancelled\n",
        "\n",
        "# assigning labels and converting them to list \n",
        "\n",
        "labels = hotel_df['meal'].value_counts().index\n",
        "\n",
        "# assigning sizes and converting to list\n",
        "\n",
        "sizes = hotel_df['meal'].value_counts().tolist()\n",
        "\n",
        "\n",
        "\n",
        "# autopct enables you to display the percent value using Python string formatting. .1f% will round off to the tenth place\n",
        "plt.pie(sizes,labels=labels,autopct='%0.1f%%')\n",
        "plt.show()"
      ],
      "execution_count": null,
      "outputs": []
    },
    {
      "cell_type": "markdown",
      "metadata": {
        "id": "kG58AlZDAp2U"
      },
      "source": [
        "\n",
        "**We can see from above pie chart that most preferrable meal is BB(77.4% appx) i.e Bed and Breakfast**  "
      ]
    },
    {
      "cell_type": "markdown",
      "metadata": {
        "id": "a8ff4vnbOuXH"
      },
      "source": [
        "\n",
        "**How long does guest stay at hotel on weekends and weekdays?**"
      ]
    },
    {
      "cell_type": "code",
      "metadata": {
        "id": "X5_0pTLmOxhq"
      },
      "source": [
        "plt.figure(figsize=(15, 15))\n",
        "plt.subplot(1, 2, 1)\n",
        "sns.countplot(data = hotel_df, x = 'stays_in_week_nights',hue='hotel' ,palette='cool')\n",
        "plt.title(\"Number of stays on week nights\",fontweight=\"bold\", size=20)\n",
        "plt.grid()\n",
        "plt.subplot(1, 2, 2)\n",
        "sns.countplot(data = hotel_df, x = 'stays_in_week_nights', hue='is_canceled', palette='rocket')\n",
        "plt.title('WeekStay vs Cancelation',fontweight=\"bold\", size=20)\n",
        "plt.grid()\n",
        "\n",
        "plt.show()"
      ],
      "execution_count": null,
      "outputs": []
    },
    {
      "cell_type": "markdown",
      "metadata": {
        "id": "GNqr0uEaHd6Y"
      },
      "source": [
        "\n",
        "**we can see from graph that most people are staying at hotel for 2 nights in week days**\n",
        "\n",
        "**And second graph is showing that most cancellation is done for room which is booked for 2 night stay and we also see that most booking were not cancelled for 1 night stay**"
      ]
    },
    {
      "cell_type": "code",
      "metadata": {
        "id": "C-ABItOAO_Eo"
      },
      "source": [
        "plt.figure(figsize=(15, 8))\n",
        "plt.subplot(1, 2, 1)\n",
        "sns.countplot(data = hotel_df, x = 'stays_in_weekend_nights',hue='hotel' ,palette='cool')\n",
        "plt.title(\"Number of stays on weekend nights\",fontweight=\"bold\", size=20)\n",
        "plt.grid()\n",
        "plt.subplot(1, 2, 2)\n",
        "sns.countplot(data = hotel_df, x = 'stays_in_weekend_nights', hue='is_canceled', palette='rocket')\n",
        "plt.title('WeekendStay vs Cancelation',fontweight=\"bold\", size=20)\n",
        "plt.grid()\n",
        "\n",
        "plt.show()"
      ],
      "execution_count": null,
      "outputs": []
    },
    {
      "cell_type": "markdown",
      "metadata": {
        "id": "BDt0dVg8Jehk"
      },
      "source": [
        "#conclusion\n",
        "**More number People prefer to stay at city hotel in weekend for 0,1 and 2 nights**\n",
        "\n",
        "**People staying for more than 2 night prefer to stay in Resort hotel**\n",
        "\n",
        "***SECOND GRAPH***\n",
        "\n",
        "**We can see that we have less number of cancellation of booking for weekends**\n"
      ]
    },
    {
      "cell_type": "markdown",
      "metadata": {
        "id": "ncWsGemAZr06"
      },
      "source": [
        "\n",
        " How many number of Repeated guest are there ?\n",
        " "
      ]
    },
    {
      "cell_type": "code",
      "metadata": {
        "id": "3al5rYzrT-gn"
      },
      "source": [
        "hotel_df.info()"
      ],
      "execution_count": null,
      "outputs": []
    },
    {
      "cell_type": "markdown",
      "metadata": {
        "id": "5KwU33N5VpIa"
      },
      "source": [
        ""
      ]
    },
    {
      "cell_type": "code",
      "metadata": {
        "id": "1SNVwEoXOJxF"
      },
      "source": [
        "#creating new data frame for repeated guest \n",
        "\n",
        "repeated_guest_df=hotel_df[hotel_df['is_repeated_guest']==1]\n",
        "sns.countplot(data=repeated_guest_df,x='is_repeated_guest', hue='hotel', palette='cool').set_title('Number of Repeated Guest')\n",
        "plt.show()"
      ],
      "execution_count": null,
      "outputs": []
    },
    {
      "cell_type": "markdown",
      "metadata": {
        "id": "hHMfuC_CT4e9"
      },
      "source": [
        "\n",
        " **There are very few repeated guest out which city hotel have more number of repeated guest compared to Resort hotel** \n"
      ]
    },
    {
      "cell_type": "code",
      "metadata": {
        "id": "YNm_sKBrXMII"
      },
      "source": [
        "df.tail()"
      ],
      "execution_count": null,
      "outputs": []
    },
    {
      "cell_type": "code",
      "metadata": {
        "id": "WJw7DyUqqqxa"
      },
      "source": [
        ""
      ],
      "execution_count": null,
      "outputs": []
    }
  ]
}